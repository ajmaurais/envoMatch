{
 "cells": [
  {
   "cell_type": "markdown",
   "metadata": {},
   "source": [
    "# Validation of custom find_nearest_index function\n",
    "\n",
    "`numpy.searchsorted` does not have an option to use a custom key, so I guess I will have to do this myself."
   ]
  },
  {
   "cell_type": "code",
   "execution_count": 13,
   "metadata": {},
   "outputs": [],
   "source": [
    "import math\n",
    "import numpy as np\n",
    "\n",
    "#old function\n",
    "def find_nearest_index(array, value) -> int:\n",
    "    '''\n",
    "    Get the index of the nearest value in array to value\n",
    "\n",
    "    :param array: list of numeric values\n",
    "    :type iterable:\n",
    "    :param value: value to search for\n",
    "    :type numeric:\n",
    "    :return: index of nearest value to value\n",
    "    '''\n",
    "    idx = np.searchsorted(array, value, side=\"left\")\n",
    "    if idx > 0 and (idx == len(array) or\n",
    "                    math.fabs(value - array[idx-1]) < math.fabs(value - array[idx])):\n",
    "        return idx-1\n",
    "    else:\n",
    "        return idx\n",
    "\n",
    "#helper for new function\n",
    "def _numericalCompare(lhs, rhs,\n",
    "                      lkey = lambda x: x,\n",
    "                      rkey = lambda x: x) -> int:\n",
    "    if lkey(lhs) < rkey(rhs):\n",
    "        return -1\n",
    "    elif lkey(lhs) > rkey(rhs):\n",
    "        return 1\n",
    "    else:\n",
    "        return 0\n",
    "\n",
    "#proposed new function\n",
    "def find_nearest_index_2(array, value,\n",
    "                         arrKey = lambda x: x,\n",
    "                         valueKey = lambda x: x,\n",
    "                         comp = _numericalCompare) -> int:\n",
    "    if comp(value, array[0], valueKey, arrKey) == -1:\n",
    "        return 0\n",
    "    if comp(value, array[-1], valueKey, arrKey) == 1:\n",
    "        return len(array) - 1\n",
    "\n",
    "    lo : int = 0\n",
    "    hi : int = len(array) - 1\n",
    "\n",
    "    while lo <= hi:\n",
    "        mid: int = int((hi + lo) / 2)\n",
    "        comp_temp: int = comp(value, array[mid], valueKey, arrKey)\n",
    "\n",
    "        if comp_temp == -1:\n",
    "            hi = mid - 1\n",
    "        elif comp_temp == 1:\n",
    "            lo = mid + 1\n",
    "        elif comp_temp == 0:\n",
    "            return mid\n",
    "        else:\n",
    "            raise RuntimeError('Invalid compare value!')\n",
    "\n",
    "    return lo if (arrKey(array[lo]) - valueKey(value)) < (valueKey(value) - arrKey(array[hi])) else hi"
   ]
  },
  {
   "cell_type": "code",
   "execution_count": 38,
   "metadata": {},
   "outputs": [],
   "source": [
    "#first create a bunch of arrays and values to use as test cases\n",
    "import random\n",
    "\n",
    "testLists = list()\n",
    "testValue = list()\n",
    "for i in range(100):\n",
    "    testLists.append(sorted(random.sample(range(10,100), 10)))\n",
    "    testValue.append(random.randint(0,150))\n",
    "\n",
    "def runTests(values, lists, f):\n",
    "    ret = list()\n",
    "    for i, n in enumerate(values):\n",
    "        #for lst in testLists:\n",
    "        ret.append(f(lists[i], n))\n",
    "    return ret\n",
    "\n",
    "std = runTests(testValue, testLists, find_nearest_index)\n",
    "test = runTests(testValue, testLists, find_nearest_index_2)"
   ]
  },
  {
   "cell_type": "code",
   "execution_count": 40,
   "metadata": {},
   "outputs": [
    {
     "name": "stdout",
     "output_type": "stream",
     "text": [
      "[84] 83, [18, 20, 21, 28, 42, 45, 50, 68, 69, 97] -> (9, 8)\n",
      "[95] 82, [29, 49, 60, 63, 74, 77, 80, 84, 88, 94] -> (7, 6)\n"
     ]
    }
   ],
   "source": [
    "assert(len(std) == len(test))\n",
    "\n",
    "results = [std[i] == test[i] for i in range(len(test))]\n",
    "values = [(std[i], test[i]) for i in range(len(test))]\n",
    "\n",
    "for i in range(len(test)):\n",
    "    if not results[i]:\n",
    "        print('[{}] {}, {} -> {}'.format(i, testValue[i], testLists[i], values[i]))\n"
   ]
  },
  {
   "cell_type": "code",
   "execution_count": 50,
   "metadata": {},
   "outputs": [
    {
     "data": {
      "text/plain": [
       "84"
      ]
     },
     "execution_count": 50,
     "metadata": {},
     "output_type": "execute_result"
    }
   ],
   "source": [
    "[x - 83 for x in testLists[84]]\n",
    "[x - 82 for x in testLists[95]]\n",
    "testLists[95][7]"
   ]
  }
 ],
 "metadata": {
  "kernelspec": {
   "display_name": "Python 3",
   "language": "python",
   "name": "python3"
  },
  "language_info": {
   "codemirror_mode": {
    "name": "ipython",
    "version": 3
   },
   "file_extension": ".py",
   "mimetype": "text/x-python",
   "name": "python",
   "nbconvert_exporter": "python",
   "pygments_lexer": "ipython3",
   "version": "3.7.1"
  },
  "varInspector": {
   "cols": {
    "lenName": 16,
    "lenType": 16,
    "lenVar": 40
   },
   "kernels_config": {
    "python": {
     "delete_cmd_postfix": "",
     "delete_cmd_prefix": "del ",
     "library": "var_list.py",
     "varRefreshCmd": "print(var_dic_list())"
    },
    "r": {
     "delete_cmd_postfix": ") ",
     "delete_cmd_prefix": "rm(",
     "library": "var_list.r",
     "varRefreshCmd": "cat(var_dic_list()) "
    }
   },
   "types_to_exclude": [
    "module",
    "function",
    "builtin_function_or_method",
    "instance",
    "_Feature"
   ],
   "window_display": false
  }
 },
 "nbformat": 4,
 "nbformat_minor": 2
}
